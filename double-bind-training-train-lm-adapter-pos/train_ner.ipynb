{
  "cells": [
    {
      "cell_type": "markdown",
      "metadata": {
        "id": "oaeGZky7g9CR"
      },
      "source": [
        "# African NER Notebook\n"
      ]
    },
    {
      "cell_type": "markdown",
      "metadata": {
        "id": "6NPj6qtGg9CT"
      },
      "source": [
        "This notebook is designed to be able to train a pre-trained model on an African NER dataset. \n",
        "\n",
        "##### Sections:\n",
        "\n",
        "There are four sections in this notebook:\n",
        "\n",
        "1. Installations: this is where we do installation for relevant dependencies\n",
        "2. Imports: here, we perform imports for all the dependencies needed\n",
        "3. Utility Classes and Functions: here, we define utility classes and functions that will help us train\n",
        "4. Training: Here, the actual training process is done\n",
        "\n",
        "### NB: Please run the entire cells in the notebooks as they are. The only section that can be modified is the training section. The parts of the code that can be modified are clearly explained in the the training section. \n"
      ]
    },
    {
      "cell_type": "markdown",
      "metadata": {
        "id": "JCKqQRUug9CU"
      },
      "source": [
        " "
      ]
    },
    {
      "cell_type": "markdown",
      "metadata": {
        "id": "wwPruH4Qg9CU"
      },
      "source": [
        "### 1. Installations"
      ]
    },
    {
      "cell_type": "code",
      "source": [
        "!git clone https://github.com/krypticmouse/double-bind-training.git\n",
        "%cd double-bind-training"
      ],
      "metadata": {
        "colab": {
          "base_uri": "https://localhost:8080/"
        },
        "id": "0dVy8lBrhdaq",
        "outputId": "9880f0ea-2aa7-4477-affd-fc0730c1da7f"
      },
      "execution_count": 1,
      "outputs": [
        {
          "output_type": "stream",
          "name": "stdout",
          "text": [
            "/content/double-bind-training\n"
          ]
        }
      ]
    },
    {
      "cell_type": "code",
      "source": [
        "!git checkout masakhane-ner-adapter"
      ],
      "metadata": {
        "colab": {
          "base_uri": "https://localhost:8080/"
        },
        "id": "36u2rgrWyZbu",
        "outputId": "25dd639a-552d-4391-84e6-e6a3d91de72c"
      },
      "execution_count": 2,
      "outputs": [
        {
          "output_type": "stream",
          "name": "stdout",
          "text": [
            "Already on 'masakhane-ner-adapter'\n",
            "Your branch is up to date with 'origin/masakhane-ner-adapter'.\n"
          ]
        }
      ]
    },
    {
      "cell_type": "code",
      "execution_count": 3,
      "metadata": {
        "colab": {
          "base_uri": "https://localhost:8080/"
        },
        "id": "q4S0wZLCg9CU",
        "outputId": "27647d62-0ba0-4a61-b88e-85256fb53f65"
      },
      "outputs": [
        {
          "output_type": "stream",
          "name": "stdout",
          "text": [
            "Looking in indexes: https://pypi.org/simple, https://us-python.pkg.dev/colab-wheels/public/simple/\n",
            "Requirement already satisfied: adapter-transformers in /usr/local/lib/python3.8/dist-packages (3.1.0)\n",
            "Requirement already satisfied: seqeval in /usr/local/lib/python3.8/dist-packages (1.2.2)\n",
            "Requirement already satisfied: ptvsd in /usr/local/lib/python3.8/dist-packages (4.3.2)\n",
            "Requirement already satisfied: wandb in /usr/local/lib/python3.8/dist-packages (0.13.9)\n",
            "Requirement already satisfied: requests in /usr/local/lib/python3.8/dist-packages (from adapter-transformers) (2.25.1)\n",
            "Requirement already satisfied: regex!=2019.12.17 in /usr/local/lib/python3.8/dist-packages (from adapter-transformers) (2022.6.2)\n",
            "Requirement already satisfied: tqdm>=4.27 in /usr/local/lib/python3.8/dist-packages (from adapter-transformers) (4.64.1)\n",
            "Requirement already satisfied: tokenizers!=0.11.3,<0.13,>=0.11.1 in /usr/local/lib/python3.8/dist-packages (from adapter-transformers) (0.12.1)\n",
            "Requirement already satisfied: filelock in /usr/local/lib/python3.8/dist-packages (from adapter-transformers) (3.9.0)\n",
            "Requirement already satisfied: packaging>=20.0 in /usr/local/lib/python3.8/dist-packages (from adapter-transformers) (21.3)\n",
            "Requirement already satisfied: pyyaml>=5.1 in /usr/local/lib/python3.8/dist-packages (from adapter-transformers) (6.0)\n",
            "Requirement already satisfied: numpy>=1.17 in /usr/local/lib/python3.8/dist-packages (from adapter-transformers) (1.21.6)\n",
            "Requirement already satisfied: huggingface-hub<1.0,>=0.1.0 in /usr/local/lib/python3.8/dist-packages (from adapter-transformers) (0.11.1)\n",
            "Requirement already satisfied: scikit-learn>=0.21.3 in /usr/local/lib/python3.8/dist-packages (from seqeval) (1.0.2)\n",
            "Requirement already satisfied: setproctitle in /usr/local/lib/python3.8/dist-packages (from wandb) (1.3.2)\n",
            "Requirement already satisfied: setuptools in /usr/local/lib/python3.8/dist-packages (from wandb) (57.4.0)\n",
            "Requirement already satisfied: sentry-sdk>=1.0.0 in /usr/local/lib/python3.8/dist-packages (from wandb) (1.13.0)\n",
            "Requirement already satisfied: psutil>=5.0.0 in /usr/local/lib/python3.8/dist-packages (from wandb) (5.4.8)\n",
            "Requirement already satisfied: GitPython>=1.0.0 in /usr/local/lib/python3.8/dist-packages (from wandb) (3.1.30)\n",
            "Requirement already satisfied: docker-pycreds>=0.4.0 in /usr/local/lib/python3.8/dist-packages (from wandb) (0.4.0)\n",
            "Requirement already satisfied: typing-extensions in /usr/local/lib/python3.8/dist-packages (from wandb) (4.4.0)\n",
            "Requirement already satisfied: Click!=8.0.0,>=7.0 in /usr/local/lib/python3.8/dist-packages (from wandb) (7.1.2)\n",
            "Requirement already satisfied: appdirs>=1.4.3 in /usr/local/lib/python3.8/dist-packages (from wandb) (1.4.4)\n",
            "Requirement already satisfied: pathtools in /usr/local/lib/python3.8/dist-packages (from wandb) (0.1.2)\n",
            "Requirement already satisfied: protobuf!=4.21.0,<5,>=3.12.0 in /usr/local/lib/python3.8/dist-packages (from wandb) (3.19.6)\n",
            "Requirement already satisfied: six>=1.4.0 in /usr/local/lib/python3.8/dist-packages (from docker-pycreds>=0.4.0->wandb) (1.15.0)\n",
            "Requirement already satisfied: gitdb<5,>=4.0.1 in /usr/local/lib/python3.8/dist-packages (from GitPython>=1.0.0->wandb) (4.0.10)\n",
            "Requirement already satisfied: pyparsing!=3.0.5,>=2.0.2 in /usr/local/lib/python3.8/dist-packages (from packaging>=20.0->adapter-transformers) (3.0.9)\n",
            "Requirement already satisfied: idna<3,>=2.5 in /usr/local/lib/python3.8/dist-packages (from requests->adapter-transformers) (2.10)\n",
            "Requirement already satisfied: chardet<5,>=3.0.2 in /usr/local/lib/python3.8/dist-packages (from requests->adapter-transformers) (4.0.0)\n",
            "Requirement already satisfied: urllib3<1.27,>=1.21.1 in /usr/local/lib/python3.8/dist-packages (from requests->adapter-transformers) (1.26.14)\n",
            "Requirement already satisfied: certifi>=2017.4.17 in /usr/local/lib/python3.8/dist-packages (from requests->adapter-transformers) (2022.12.7)\n",
            "Requirement already satisfied: threadpoolctl>=2.0.0 in /usr/local/lib/python3.8/dist-packages (from scikit-learn>=0.21.3->seqeval) (3.1.0)\n",
            "Requirement already satisfied: scipy>=1.1.0 in /usr/local/lib/python3.8/dist-packages (from scikit-learn>=0.21.3->seqeval) (1.7.3)\n",
            "Requirement already satisfied: joblib>=0.11 in /usr/local/lib/python3.8/dist-packages (from scikit-learn>=0.21.3->seqeval) (1.2.0)\n",
            "Requirement already satisfied: smmap<6,>=3.0.1 in /usr/local/lib/python3.8/dist-packages (from gitdb<5,>=4.0.1->GitPython>=1.0.0->wandb) (5.0.0)\n"
          ]
        }
      ],
      "source": [
        "! pip install adapter-transformers seqeval ptvsd wandb"
      ]
    },
    {
      "cell_type": "code",
      "source": [
        "import wandb\n",
        "wandb.login()"
      ],
      "metadata": {
        "colab": {
          "base_uri": "https://localhost:8080/"
        },
        "id": "ELRKBpm4_Ozl",
        "outputId": "c42f9691-2aae-40f7-acf5-6d72c4966895"
      },
      "execution_count": 4,
      "outputs": [
        {
          "output_type": "stream",
          "name": "stderr",
          "text": [
            "ERROR:wandb.jupyter:Failed to detect the name of this notebook, you can set it manually with the WANDB_NOTEBOOK_NAME environment variable to enable code saving.\n",
            "\u001b[34m\u001b[1mwandb\u001b[0m: Currently logged in as: \u001b[33mkrypticmouse\u001b[0m (\u001b[33mdouble-bind-ner\u001b[0m). Use \u001b[1m`wandb login --relogin`\u001b[0m to force relogin\n"
          ]
        },
        {
          "output_type": "execute_result",
          "data": {
            "text/plain": [
              "True"
            ]
          },
          "metadata": {},
          "execution_count": 4
        }
      ]
    },
    {
      "cell_type": "markdown",
      "metadata": {
        "id": "u3pb_W3eg9CV"
      },
      "source": [
        "### 2. Imports"
      ]
    },
    {
      "cell_type": "code",
      "source": [
        "%env MAX_LENGTH=164\n",
        "%env ADAPTER_MODEL=bert-base-multilingual-cased\n",
        "%env OUTPUT_DIR=wol_sample\n",
        "%env BATCH_SIZE=32\n",
        "%env NUM_EPOCHS=50\n",
        "%env SAVE_STEPS=10000\n",
        "%env SEED=1"
      ],
      "metadata": {
        "colab": {
          "base_uri": "https://localhost:8080/"
        },
        "id": "0Vt27oUOANiW",
        "outputId": "de8fc4a5-a83d-48e7-d9c6-6a83d5ff56c1"
      },
      "execution_count": 5,
      "outputs": [
        {
          "output_type": "stream",
          "name": "stdout",
          "text": [
            "env: MAX_LENGTH=164\n",
            "env: ADAPTER_MODEL=bert-base-multilingual-cased\n",
            "env: OUTPUT_DIR=wol_sample\n",
            "env: BATCH_SIZE=32\n",
            "env: NUM_EPOCHS=50\n",
            "env: SAVE_STEPS=10000\n",
            "env: SEED=1\n"
          ]
        }
      ]
    },
    {
      "cell_type": "code",
      "execution_count": 6,
      "metadata": {
        "colab": {
          "base_uri": "https://localhost:8080/",
          "height": 104
        },
        "id": "Z1VImMVng9CW",
        "outputId": "c49b9c7b-8ee0-4a2a-a2c3-d512f110ebf9"
      },
      "outputs": [
        {
          "output_type": "display_data",
          "data": {
            "text/plain": [
              "<IPython.core.display.HTML object>"
            ],
            "text/html": [
              "Tracking run with wandb version 0.13.9"
            ]
          },
          "metadata": {}
        },
        {
          "output_type": "display_data",
          "data": {
            "text/plain": [
              "<IPython.core.display.HTML object>"
            ],
            "text/html": [
              "Run data is saved locally in <code>/content/double-bind-training/wandb/run-20230121_233038-w159j74w</code>"
            ]
          },
          "metadata": {}
        },
        {
          "output_type": "display_data",
          "data": {
            "text/plain": [
              "<IPython.core.display.HTML object>"
            ],
            "text/html": [
              "Syncing run <strong><a href=\"https://wandb.ai/double-bind-ner/masakhane-ner-test-run/runs/w159j74w\" target=\"_blank\">fresh-grass-30</a></strong> to <a href=\"https://wandb.ai/double-bind-ner/masakhane-ner-test-run\" target=\"_blank\">Weights & Biases</a> (<a href=\"https://wandb.me/run\" target=\"_blank\">docs</a>)<br/>"
            ]
          },
          "metadata": {}
        },
        {
          "output_type": "display_data",
          "data": {
            "text/plain": [
              "<IPython.core.display.HTML object>"
            ],
            "text/html": [
              " View project at <a href=\"https://wandb.ai/double-bind-ner/masakhane-ner-test-run\" target=\"_blank\">https://wandb.ai/double-bind-ner/masakhane-ner-test-run</a>"
            ]
          },
          "metadata": {}
        },
        {
          "output_type": "display_data",
          "data": {
            "text/plain": [
              "<IPython.core.display.HTML object>"
            ],
            "text/html": [
              " View run at <a href=\"https://wandb.ai/double-bind-ner/masakhane-ner-test-run/runs/w159j74w\" target=\"_blank\">https://wandb.ai/double-bind-ner/masakhane-ner-test-run/runs/w159j74w</a>"
            ]
          },
          "metadata": {}
        }
      ],
      "source": [
        "import argparse\n",
        "import glob\n",
        "import logging\n",
        "import os\n",
        "import random\n",
        "\n",
        "import numpy as np\n",
        "import torch\n",
        "from seqeval.metrics import f1_score, precision_score, recall_score, classification_report\n",
        "from torch.nn import CrossEntropyLoss\n",
        "from torch.utils.data import DataLoader, RandomSampler, SequentialSampler, TensorDataset\n",
        "from torch.utils.data.distributed import DistributedSampler\n",
        "from tqdm import tqdm, trange\n",
        "from torch.utils.data import TensorDataset\n",
        "\n",
        "from torch.nn.utils.rnn import pack_padded_sequence, pad_packed_sequence\n",
        "from torch import LongTensor\n",
        "import torch\n",
        "from torch import nn\n",
        "from tqdm.notebook import tqdm\n",
        "import random\n",
        "\n",
        "\n",
        "from transformers import (\n",
        "    WEIGHTS_NAME,\n",
        "    AdamW,\n",
        "    AutoConfig,\n",
        "    AutoTokenizer,\n",
        "    AutoAdapterModel,\n",
        "    get_linear_schedule_with_warmup,\n",
        ")\n",
        "\n",
        "import wandb\n",
        "from utils_ner import convert_examples_to_features, get_labels, read_examples_from_file\n",
        "from torch.utils.data import DataLoader\n",
        "\n",
        "\n",
        "logger = logging.getLogger(__name__)\n",
        "wandb.init(project=\"masakhane-ner-test-run\", entity=\"double-bind-ner\", tags=[\"dev\"])\n",
        "\n",
        "wandb.config = {\n",
        "    \"max length\": os.getenv('MAX_LENGTH'),\n",
        "    \"adapter model\": os.getenv('ADAPTER_MODEL'),\n",
        "    \"output dir\": os.getenv('OUTPUT_DIR'),\n",
        "    \"batch size\": os.getenv('BATCH_SIZE'),\n",
        "    \"epochs\": os.getenv('NUM_EPOCHS'),\n",
        "    \"save steps\": os.getenv('SAVE_STEPS'),\n",
        "    \"seed\": os.getenv('SEED'),\n",
        "}\n",
        "\n",
        "MODEL_CLASSES = {\n",
        "    \"bert\": \"\",\n",
        "    \"roberta\": \"\",\n",
        "    \"distilbert\": \"\",\n",
        "    \"camembert\": \"\",\n",
        "    \"xlmroberta\": \"\",\n",
        "}"
      ]
    },
    {
      "cell_type": "code",
      "source": [
        "wandb.config"
      ],
      "metadata": {
        "colab": {
          "base_uri": "https://localhost:8080/"
        },
        "id": "aUxH73Egmsng",
        "outputId": "39aee825-9b81-4377-9580-d6d01e2d995c"
      },
      "execution_count": 7,
      "outputs": [
        {
          "output_type": "execute_result",
          "data": {
            "text/plain": [
              "{'max length': '164',\n",
              " 'adapter model': 'bert-base-multilingual-cased',\n",
              " 'output dir': 'wol_sample',\n",
              " 'batch size': '32',\n",
              " 'epochs': '50',\n",
              " 'save steps': '10000',\n",
              " 'seed': '1'}"
            ]
          },
          "metadata": {},
          "execution_count": 7
        }
      ]
    },
    {
      "cell_type": "markdown",
      "metadata": {
        "id": "HgPXZu7rg9CX"
      },
      "source": [
        "### 3. Utility classes and functions "
      ]
    },
    {
      "cell_type": "markdown",
      "metadata": {
        "id": "z7nvHf8xg9CX"
      },
      "source": [
        "Here, we write utility classes and functions that we will use for training. You can just run all the cells below. \n",
        "\n",
        "**PLEASE DO NOT MAKE ANY CHANGES IN THIS SECTION** "
      ]
    },
    {
      "cell_type": "markdown",
      "metadata": {
        "id": "VrRv46lbg9CY"
      },
      "source": [
        "We begin by writing custom datasets for our NER task"
      ]
    },
    {
      "cell_type": "code",
      "execution_count": 8,
      "metadata": {
        "scrolled": true,
        "id": "Qvi-epjig9CY"
      },
      "outputs": [],
      "source": [
        "class InputExample(object):\n",
        "    \"\"\"A single training/test example for token classification.\"\"\"\n",
        "\n",
        "    def __init__(self, guid, words, labels):\n",
        "        \"\"\"Constructs a InputExample.\n",
        "        Args:\n",
        "            guid: Unique id for the example.\n",
        "            words: list. The words of the sequence.\n",
        "            labels: (Optional) list. The labels for each word of the sequence. This should be\n",
        "            specified for train and dev examples, but not for test examples.\n",
        "        \"\"\"\n",
        "        self.guid = guid\n",
        "        self.words = words\n",
        "        self.labels = labels\n",
        "\n",
        "class InputFeatures(object):\n",
        "    \"\"\"A single set of features of data.\"\"\"\n",
        "\n",
        "    def __init__(self, input_ids, input_mask, segment_ids, label_ids):\n",
        "        self.input_ids = input_ids\n",
        "        self.input_mask = input_mask\n",
        "        self.segment_ids = segment_ids\n",
        "        self.label_ids = label_ids\n"
      ]
    },
    {
      "cell_type": "markdown",
      "metadata": {
        "id": "J7gR0CxUg9CZ"
      },
      "source": [
        "Next, we define the train and evaluation functions"
      ]
    },
    {
      "cell_type": "code",
      "execution_count": 9,
      "metadata": {
        "id": "DpTjGN3Fg9Ca"
      },
      "outputs": [],
      "source": [
        "def train(args, train_dataset, model, tokenizer, labels, pad_token_label_id):\n",
        "    model.set_active_adapters([[\"ner\"]])\n",
        "    model.train_adapter([\"ner\"])\n",
        "    \"\"\" Train the model \"\"\"\n",
        "    loss_fct = torch.nn.CrossEntropyLoss()\n",
        "\n",
        "    args.train_batch_size = args.per_gpu_train_batch_size * max(1, args.n_gpu)\n",
        "    train_sampler = RandomSampler(train_dataset)\n",
        "    train_dataloader = DataLoader(train_dataset, sampler=train_sampler, batch_size=args.train_batch_size)\n",
        "\n",
        "    if args.max_steps > 0:\n",
        "        t_total = args.max_steps\n",
        "        args.num_train_epochs = args.max_steps // (len(train_dataloader) // args.gradient_accumulation_steps) + 1\n",
        "    else:\n",
        "        t_total = len(train_dataloader) // args.gradient_accumulation_steps * args.num_train_epochs\n",
        "\n",
        "    # Prepare optimizer and schedule (linear warmup and decay)\n",
        "    no_decay = [\"bias\", \"LayerNorm.weight\"]\n",
        "    optimizer_grouped_parameters = [\n",
        "        {\n",
        "            \"params\": [p for n, p in model.named_parameters() if not any(nd in n for nd in no_decay)],\n",
        "            \"weight_decay\": args.weight_decay,\n",
        "        },\n",
        "        {\n",
        "            \"params\": [p for n, p in model.named_parameters() if any(nd in n for nd in no_decay)], \n",
        "            \"weight_decay\": 0.0\n",
        "        },\n",
        "    ]\n",
        "    optimizer = AdamW(optimizer_grouped_parameters, lr=args.learning_rate, eps=args.adam_epsilon)\n",
        "    scheduler = get_linear_schedule_with_warmup(\n",
        "        optimizer, num_warmup_steps=args.warmup_steps, num_training_steps=t_total\n",
        "    )\n",
        "\n",
        "    # Check if saved optimizer or scheduler states exist\n",
        "    if os.path.isfile(os.path.join(args.model_name_or_path, \"optimizer.pt\")) and os.path.isfile(\n",
        "            os.path.join(args.model_name_or_path, \"scheduler.pt\")\n",
        "    ):\n",
        "        # Load in optimizer and scheduler states\n",
        "        optimizer.load_state_dict(torch.load(os.path.join(args.model_name_or_path, \"optimizer.pt\")))\n",
        "        scheduler.load_state_dict(torch.load(os.path.join(args.model_name_or_path, \"scheduler.pt\")))\n",
        "\n",
        "\n",
        "    # Train!\n",
        "    print(\"***** Running training *****\")\n",
        "    print(\"  Num examples = \", len(train_dataset))\n",
        "    print(\"  Num Epochs = \", args.num_train_epochs)\n",
        "    print(\"  Instantaneous batch size per GPU = \", args.per_gpu_train_batch_size)\n",
        "    print(\n",
        "        \"  Total train batch size (w. parallel, distributed & accumulation) = \",\n",
        "        args.train_batch_size\n",
        "        * args.gradient_accumulation_steps\n",
        "        * (1),\n",
        "    )\n",
        "    print(\"  Gradient Accumulation steps = \", args.gradient_accumulation_steps)\n",
        "    print(\"  Total optimization steps = \", t_total)\n",
        "\n",
        "    global_step = 0\n",
        "    epochs_trained = 0\n",
        "    steps_trained_in_current_epoch = 0\n",
        "    # Check if continuing training from a checkpoint\n",
        "    if os.path.exists(args.model_name_or_path):\n",
        "        # set global_step to gobal_step of last saved checkpoint from model path\n",
        "        try:\n",
        "            global_step = int(args.model_name_or_path.split(\"-\")[-1].split(\"/\")[0])\n",
        "        except ValueError:\n",
        "            global_step = 0\n",
        "        epochs_trained = global_step // (len(train_dataloader) // args.gradient_accumulation_steps)\n",
        "        steps_trained_in_current_epoch = global_step % (len(train_dataloader) // args.gradient_accumulation_steps)\n",
        "\n",
        "        print(\"  Continuing training from checkpoint, will skip to saved global_step\")\n",
        "        print(\"  Continuing training from epoch\", epochs_trained)\n",
        "        print(\"  Continuing training from global step\", global_step)\n",
        "        print(f\"  Will skip the first {steps_trained_in_current_epoch} steps in the first epoch\")\n",
        "\n",
        "    tr_loss, logging_loss = 0.0, 0.0\n",
        "    model.zero_grad()\n",
        "    train_iterator = trange(\n",
        "        epochs_trained, int(args.num_train_epochs), desc=\"Epoch\", disable=args.local_rank not in [-1, 0]\n",
        "    )\n",
        "    set_seed(args)  # Added here for reproductibility\n",
        "    for _ in train_iterator:\n",
        "        epoch_iterator = tqdm(train_dataloader, desc=\"Iteration\", disable=args.local_rank not in [-1, 0])\n",
        "        for step, batch in enumerate(epoch_iterator):\n",
        "\n",
        "            # Skip past any already trained steps if resuming training\n",
        "            if steps_trained_in_current_epoch > 0:\n",
        "                steps_trained_in_current_epoch -= 1\n",
        "                continue\n",
        "\n",
        "            model.train()\n",
        "            batch = tuple(t.to(args.device) for t in batch)\n",
        "            inputs = {\"input_ids\": batch[0], \"attention_mask\": batch[1], \"labels\": batch[3]}\n",
        "            if args.model_type != \"distilbert\":\n",
        "                inputs[\"token_type_ids\"] = (\n",
        "                    batch[2] if args.model_type in [\"bert\", \"xlnet\"] else None\n",
        "                )  # XLM and RoBERTa don\"t use segment_ids\n",
        "\n",
        "            logits = model(inputs[\"input_ids\"])['logits']#, attention_mask=inputs[\"attention_mask\"], output_hidden_states=True)\n",
        "\n",
        "            active_loss = inputs[\"attention_mask\"].view(-1) == 1\n",
        "            active_logits = logits.view(-1, args.num_labels)\n",
        "            active_labels = torch.where(\n",
        "\n",
        "                active_loss, inputs[\"labels\"].view(-1), torch.tensor(loss_fct.ignore_index).type_as(inputs[\"labels\"])\n",
        "            )\n",
        "            loss = loss_fct(active_logits, active_labels)\n",
        "\n",
        "            if args.gradient_accumulation_steps > 1:\n",
        "                loss = loss / args.gradient_accumulation_steps\n",
        "\n",
        "            loss.backward()\n",
        "\n",
        "            tr_loss += loss.item()\n",
        "\n",
        "            if (step + 1) % args.gradient_accumulation_steps == 0:\n",
        "                torch.nn.utils.clip_grad_norm_(model.parameters(), args.max_grad_norm)\n",
        "                \n",
        "                optimizer.step()\n",
        "                scheduler.step()  # Update learning rate schedule\n",
        "                model.zero_grad()\n",
        "                global_step += 1\n",
        "\n",
        "                if args.local_rank in [-1, 0] and args.logging_steps > 0 and global_step % args.logging_steps == 0:\n",
        "                    # Log metrics\n",
        "                    if (\n",
        "                            args.local_rank == -1 and args.evaluate_during_training\n",
        "                    ):  # Only evaluate when single GPU otherwise metrics may not average well\n",
        "                        results, _ = evaluate(args, model, tokenizer, labels, pad_token_label_id, mode=\"dev\")\n",
        "                        for key, value in results.items():\n",
        "                            wandb.log({f\"eval_{key}\": value})\n",
        "                    logging_loss = tr_loss\n",
        "\n",
        "                if args.local_rank in [-1, 0] and args.save_steps > 0 and global_step % args.save_steps == 0:\n",
        "                    # Save model checkpoint\n",
        "                    output_dir = os.path.join(args.output_dir, \"checkpoint-{}\".format(global_step))\n",
        "                    if not os.path.exists(output_dir):\n",
        "                        os.makedirs(output_dir)\n",
        "\n",
        "                    model_to_save = (\n",
        "                        model.module if hasattr(model, \"module\") else model\n",
        "                    )\n",
        "\n",
        "                    model_to_save.save_pretrained(args.output_dir)\n",
        "                    tokenizer.save_pretrained(args.output_dir)\n",
        "\n",
        "                    # Good practice: save your training arguments together with the trained model\n",
        "                    torch.save(args, os.path.join(args.output_dir, \"training_args.bin\"))\n",
        "\n",
        "                    logger.info(\"Saving model checkpoint to \", output_dir)\n",
        "\n",
        "                    torch.save(optimizer.state_dict(), os.path.join(output_dir, \"optimizer.pt\"))\n",
        "                    torch.save(scheduler.state_dict(), os.path.join(output_dir, \"scheduler.pt\"))\n",
        "                    print(\"Saving optimizer and scheduler states to\", output_dir)\n",
        "\n",
        "            if args.max_steps > 0 and global_step > args.max_steps:\n",
        "                epoch_iterator.close()\n",
        "                break\n",
        "        \n",
        "\n",
        "        wandb.log({\n",
        "            f\"lr\": scheduler.get_lr()[0],\n",
        "            f\"train_loss\": tr_loss / args.logging_steps\n",
        "        })\n",
        "\n",
        "        print(\"training loss\", tr_loss / args.logging_steps)\n",
        "        if args.max_steps > 0 and global_step > args.max_steps:\n",
        "            train_iterator.close()\n",
        "            break\n",
        "\n",
        "    return global_step, tr_loss / global_step"
      ]
    },
    {
      "cell_type": "markdown",
      "metadata": {
        "id": "f7H1kPSkg9Cc"
      },
      "source": [
        " "
      ]
    },
    {
      "cell_type": "code",
      "execution_count": 10,
      "metadata": {
        "id": "lWQAbcCgg9Cd"
      },
      "outputs": [],
      "source": [
        "def evaluate(args, bert_model, model, tokenizer, labels, pad_token_label_id, mode, prefix=\"\"):\n",
        "    bert_model.set_active_adapters([[\"ner\"]])\n",
        "    eval_dataset = load_and_cache_examples(args, tokenizer, labels, pad_token_label_id, mode=mode)\n",
        "\n",
        "    loss_fct = torch.nn.CrossEntropyLoss()\n",
        "\n",
        "    args.eval_batch_size = args.per_gpu_eval_batch_size * max(1, args.n_gpu)\n",
        "    # Note that DistributedSampler samples randomly\n",
        "    eval_sampler = SequentialSampler(eval_dataset) if args.local_rank == -1 else DistributedSampler(eval_dataset)\n",
        "    eval_dataloader = DataLoader(eval_dataset, sampler=eval_sampler, batch_size=args.eval_batch_size)\n",
        "\n",
        "    # multi-gpu evaluate\n",
        "    if args.n_gpu > 1:\n",
        "        model = torch.nn.DataParallel(model)\n",
        "\n",
        "    # Eval!\n",
        "    print(f\"***** Running evaluation {prefix} *****\")\n",
        "    print(\"  Num examples = \", len(eval_dataset))\n",
        "    print(\"  Batch size = \", args.eval_batch_size)\n",
        "    eval_loss = 0.0\n",
        "    nb_eval_steps = 0\n",
        "    preds = None\n",
        "    out_label_ids = None\n",
        "    model.eval()\n",
        "    for batch in tqdm(eval_dataloader, desc=\"Evaluating\"):\n",
        "        batch = tuple(t.to(args.device) for t in batch)\n",
        "\n",
        "        with torch.no_grad():\n",
        "            inputs = {\"input_ids\": batch[0], \"attention_mask\": batch[1], \"labels\": batch[3]}\n",
        "            if args.model_type != \"distilbert\":\n",
        "                inputs[\"token_type_ids\"] = (\n",
        "                    batch[2] if args.model_type in [\"bert\", \"xlnet\"] else None\n",
        "                )  # XLM and RoBERTa don\"t use segment_ids\n",
        "            #outputs = model(**inputs)\n",
        "            #tmp_eval_loss, logits = outputs[:2]\n",
        "\n",
        "\n",
        "            hs = bert_model(inputs[\"input_ids\"], attention_mask=inputs[\"attention_mask\"], output_hidden_states=True)\n",
        "\n",
        "            avg_emb = 0\n",
        "            for layer in range(1, len(hs.hidden_states)):\n",
        "                avg_emb += hs.hidden_states[layer]\n",
        "\n",
        "            avg_emb = torch.div(avg_emb, len(hs.hidden_states) - 1)\n",
        "\n",
        "            logits = model(avg_emb)\n",
        "            active_loss = inputs[\"attention_mask\"].view(-1) == 1\n",
        "            active_logits = logits.view(-1, args.num_labels)\n",
        "            active_labels = torch.where(\n",
        "                active_loss, inputs[\"labels\"].view(-1), torch.tensor(loss_fct.ignore_index).type_as(inputs[\"labels\"])\n",
        "            )\n",
        "            tmp_eval_loss = loss_fct(active_logits, active_labels)\n",
        "\n",
        "            if args.n_gpu > 1:\n",
        "                tmp_eval_loss = tmp_eval_loss.mean()  # mean() to average on multi-gpu parallel evaluating\n",
        "\n",
        "            eval_loss += tmp_eval_loss.item()\n",
        "        nb_eval_steps += 1\n",
        "        if preds is None:\n",
        "            preds = logits.detach().cpu().numpy()\n",
        "            out_label_ids = inputs[\"labels\"].detach().cpu().numpy()\n",
        "        else:\n",
        "            preds = np.append(preds, logits.detach().cpu().numpy(), axis=0)\n",
        "            out_label_ids = np.append(out_label_ids, inputs[\"labels\"].detach().cpu().numpy(), axis=0)\n",
        "\n",
        "    eval_loss = eval_loss / nb_eval_steps\n",
        "    preds = np.argmax(preds, axis=2)\n",
        "\n",
        "    label_map = {i: label for i, label in enumerate(labels)}\n",
        "\n",
        "    out_label_list = [[] for _ in range(out_label_ids.shape[0])]\n",
        "    preds_list = [[] for _ in range(out_label_ids.shape[0])]\n",
        "\n",
        "    for i in range(out_label_ids.shape[0]):\n",
        "        for j in range(out_label_ids.shape[1]):\n",
        "            if out_label_ids[i, j] != pad_token_label_id:\n",
        "                out_label_list[i].append(label_map[out_label_ids[i][j]])\n",
        "                preds_list[i].append(label_map[preds[i][j]])\n",
        "\n",
        "    results = {\n",
        "        \"eval_loss\": eval_loss,\n",
        "        \"eval_precision\": precision_score(out_label_list, preds_list),\n",
        "        \"eval_recall\": recall_score(out_label_list, preds_list),\n",
        "        \"eval_f1\": f1_score(out_label_list, preds_list),\n",
        "        'eval_report': classification_report(out_label_list, preds_list),\n",
        "    }\n",
        "\n",
        "    wandb.log(results)\n",
        "\n",
        "    print(f\"***** Eval results {prefix} *****\")\n",
        "    for key in sorted(results.keys()):\n",
        "        print(\"  key = {\")\n",
        "\n",
        "    return results, preds_list"
      ]
    },
    {
      "cell_type": "markdown",
      "metadata": {
        "id": "-fE-Oytdg9Ce"
      },
      "source": [
        "Next, we define functions that will help us load and preprocess the examples. "
      ]
    },
    {
      "cell_type": "code",
      "execution_count": 12,
      "metadata": {
        "id": "sCB8ElRJg9Cf"
      },
      "outputs": [],
      "source": [
        "def load_and_cache_examples(args, tokenizer, labels, pad_token_label_id, mode):\n",
        "    if args.local_rank not in [-1, 0] and not evaluate:\n",
        "        torch.distributed.barrier()  # Make sure only the first process in distributed training process the dataset, and the others will use the cache\n",
        "\n",
        "    # Load data features from cache or dataset file\n",
        "    cached_features_file = os.path.join(\n",
        "        args.data_dir,\n",
        "        \"cached_{}_{}_{}\".format(\n",
        "            mode, list(filter(None, args.model_name_or_path.split(\"/\"))).pop(), str(args.max_seq_length)\n",
        "        ),\n",
        "    )\n",
        "    if os.path.exists(cached_features_file) and not args.overwrite_cache:\n",
        "        print(\"Loading features from cached file\", cached_features_file)\n",
        "        features = torch.load(cached_features_file)\n",
        "    else:\n",
        "        print(\"Creating features from dataset file at\", args.data_dir)\n",
        "        examples = read_examples_from_file(args.data_dir, mode)\n",
        "        features = convert_examples_to_features(\n",
        "            examples,\n",
        "            labels,\n",
        "            args.max_seq_length,\n",
        "            tokenizer,\n",
        "            cls_token_at_end=bool(args.model_type in [\"xlnet\"]),\n",
        "            # xlnet has a cls token at the end\n",
        "            cls_token=tokenizer.cls_token,\n",
        "            cls_token_segment_id=2 if args.model_type in [\"xlnet\"] else 0,\n",
        "            sep_token=tokenizer.sep_token,\n",
        "            sep_token_extra=bool(args.model_type in [\"roberta\"]),\n",
        "            # roberta uses an extra separator b/w pairs of sentences, cf. github.com/pytorch/fairseq/commit/1684e166e3da03f5b600dbb7855cb98ddfcd0805\n",
        "            pad_on_left=bool(args.model_type in [\"xlnet\"]),\n",
        "            # pad on the left for xlnet\n",
        "            pad_token=tokenizer.convert_tokens_to_ids([tokenizer.pad_token])[0],\n",
        "            pad_token_segment_id=4 if args.model_type in [\"xlnet\"] else 0,\n",
        "            pad_token_label_id=pad_token_label_id,\n",
        "        )\n",
        "        if args.local_rank in [-1, 0]:\n",
        "            print(\"Saving features into cached file\" , cached_features_file)\n",
        "            torch.save(features, cached_features_file)\n",
        "\n",
        "    if args.local_rank == 0 and not evaluate:\n",
        "        torch.distributed.barrier()  # Make sure only the first process in distributed training process the dataset, and the others will use the cache\n",
        "\n",
        "    # Convert to Tensors and build dataset\n",
        "    all_input_ids = torch.tensor([f.input_ids for f in features], dtype=torch.long)\n",
        "    all_input_mask = torch.tensor([f.input_mask for f in features], dtype=torch.long)\n",
        "    all_segment_ids = torch.tensor([f.segment_ids for f in features], dtype=torch.long)\n",
        "    all_label_ids = torch.tensor([f.label_ids for f in features], dtype=torch.long)\n",
        "\n",
        "    dataset = TensorDataset(all_input_ids, all_input_mask, all_segment_ids, all_label_ids)\n",
        "    return dataset\n"
      ]
    },
    {
      "cell_type": "markdown",
      "metadata": {
        "id": "Xp7NjdL3g9Cg"
      },
      "source": [
        " "
      ]
    },
    {
      "cell_type": "code",
      "execution_count": 14,
      "metadata": {
        "id": "w7SI-RIag9Cg"
      },
      "outputs": [],
      "source": [
        "def read_examples_from_file(data_dir, mode):\n",
        "    file_path = os.path.join(data_dir, \"{}.txt\".format(mode))\n",
        "    guid_index = 1\n",
        "    examples = []\n",
        "    with open(file_path, encoding=\"utf-8\") as f:\n",
        "        words = []\n",
        "        labels = []\n",
        "        for line in f:\n",
        "            line = line.strip()\n",
        "            if len(line) < 2  or line == \"\\n\":\n",
        "                print(line, words)\n",
        "                if words:\n",
        "                    examples.append(InputExample(guid=\"{}-{}\".format(mode, guid_index), words=words, labels=labels))\n",
        "                    guid_index += 1\n",
        "                    words = []\n",
        "                    labels = []\n",
        "            else:\n",
        "                splits = line.split(\" \")\n",
        "                words.append(splits[0])\n",
        "                if len(splits) > 1:\n",
        "                    labels.append(splits[-1].replace(\"\\n\", \"\"))\n",
        "                else:\n",
        "                    # Examples could have no label for mode = \"test\"\n",
        "                    labels.append(\"O\")\n",
        "        if words:\n",
        "            examples.append(InputExample(guid=\"{}-{}\".format(mode, guid_index), words=words, labels=labels))\n",
        "    return examples\n",
        "\n",
        "\n",
        "def convert_examples_to_features(\n",
        "    examples,\n",
        "    label_list,\n",
        "    max_seq_length,\n",
        "    tokenizer,\n",
        "    cls_token_at_end=False,\n",
        "    cls_token=\"[CLS]\",\n",
        "    cls_token_segment_id=1,\n",
        "    sep_token=\"[SEP]\",\n",
        "    sep_token_extra=False,\n",
        "    pad_on_left=False,\n",
        "    pad_token=0,\n",
        "    pad_token_segment_id=0,\n",
        "    pad_token_label_id=-100,\n",
        "    sequence_a_segment_id=0,\n",
        "    mask_padding_with_zero=True,\n",
        "):\n",
        "    \"\"\" Loads a data file into a list of `InputBatch`s\n",
        "        `cls_token_at_end` define the location of the CLS token:\n",
        "            - False (Default, BERT/XLM pattern): [CLS] + A + [SEP] + B + [SEP]\n",
        "            - True (XLNet/GPT pattern): A + [SEP] + B + [SEP] + [CLS]\n",
        "        `cls_token_segment_id` define the segment id associated to the CLS token (0 for BERT, 2 for XLNet)\n",
        "    \"\"\"\n",
        "\n",
        "    label_map = {label: i for i, label in enumerate(label_list)}\n",
        "\n",
        "    features = []\n",
        "    for (ex_index, example) in enumerate(examples):\n",
        "        #print(ex_index, len(example.words))\n",
        "        if ex_index % 10000 == 0:\n",
        "            print(f\"Writing example {ex_index} of {len(examples)}\")\n",
        "\n",
        "        tokens = []\n",
        "        label_ids = []\n",
        "        for word, label in zip(example.words, example.labels):\n",
        "            word_tokens = tokenizer.tokenize(word)\n",
        "            tokens.extend(word_tokens)\n",
        "            # Use the real label id for the first token of the word, and padding ids for the remaining tokens\n",
        "            label_ids.extend([label_map[label]] + [pad_token_label_id] * (len(word_tokens) - 1))\n",
        "\n",
        "        # Account for [CLS] and [SEP] with \"- 2\" and with \"- 3\" for RoBERTa.\n",
        "        special_tokens_count = 3 if sep_token_extra else 2\n",
        "        if len(tokens) > max_seq_length - special_tokens_count:\n",
        "            tokens = tokens[: (max_seq_length - special_tokens_count)]\n",
        "            label_ids = label_ids[: (max_seq_length - special_tokens_count)]\n",
        "\n",
        "        # The convention in BERT is:\n",
        "        # (a) For sequence pairs:\n",
        "        #  tokens:   [CLS] is this jack ##son ##ville ? [SEP] no it is not . [SEP]\n",
        "        #  type_ids:   0   0  0    0    0     0       0   0   1  1  1  1   1   1\n",
        "        # (b) For single sequences:\n",
        "        #  tokens:   [CLS] the dog is hairy . [SEP]\n",
        "        #  type_ids:   0   0   0   0  0     0   0\n",
        "        #\n",
        "        # Where \"type_ids\" are used to indicate whether this is the first\n",
        "        # sequence or the second sequence. The embedding vectors for `type=0` and\n",
        "        # `type=1` were learned during pre-training and are added to the wordpiece\n",
        "        # embedding vector (and position vector). This is not *strictly* necessary\n",
        "        # since the [SEP] token unambiguously separates the sequences, but it makes\n",
        "        # it easier for the model to learn the concept of sequences.\n",
        "        #\n",
        "        # For classification tasks, the first vector (corresponding to [CLS]) is\n",
        "        # used as as the \"sentence vector\". Note that this only makes sense because\n",
        "        # the entire model is fine-tuned.\n",
        "        tokens += [sep_token]\n",
        "        label_ids += [pad_token_label_id]\n",
        "        if sep_token_extra:\n",
        "            # roberta uses an extra separator b/w pairs of sentences\n",
        "            tokens += [sep_token]\n",
        "            label_ids += [pad_token_label_id]\n",
        "        segment_ids = [sequence_a_segment_id] * len(tokens)\n",
        "\n",
        "        if cls_token_at_end:\n",
        "            tokens += [cls_token]\n",
        "            label_ids += [pad_token_label_id]\n",
        "            segment_ids += [cls_token_segment_id]\n",
        "        else:\n",
        "            tokens = [cls_token] + tokens\n",
        "            label_ids = [pad_token_label_id] + label_ids\n",
        "            segment_ids = [cls_token_segment_id] + segment_ids\n",
        "\n",
        "        input_ids = tokenizer.convert_tokens_to_ids(tokens)\n",
        "\n",
        "        # The mask has 1 for real tokens and 0 for padding tokens. Only real\n",
        "        # tokens are attended to.\n",
        "        input_mask = [1 if mask_padding_with_zero else 0] * len(input_ids)\n",
        "\n",
        "        # Zero-pad up to the sequence length.\n",
        "        padding_length = max_seq_length - len(input_ids)\n",
        "        if pad_on_left:\n",
        "            input_ids = ([pad_token] * padding_length) + input_ids\n",
        "            input_mask = ([0 if mask_padding_with_zero else 1] * padding_length) + input_mask\n",
        "            segment_ids = ([pad_token_segment_id] * padding_length) + segment_ids\n",
        "            label_ids = ([pad_token_label_id] * padding_length) + label_ids\n",
        "        else:\n",
        "            input_ids += [pad_token] * padding_length\n",
        "            input_mask += [0 if mask_padding_with_zero else 1] * padding_length\n",
        "            segment_ids += [pad_token_segment_id] * padding_length\n",
        "            label_ids += [pad_token_label_id] * padding_length\n",
        "\n",
        "        assert len(input_ids) == max_seq_length\n",
        "        assert len(input_mask) == max_seq_length\n",
        "        assert len(segment_ids) == max_seq_length\n",
        "        try:\n",
        "            assert len(label_ids) == max_seq_length\n",
        "        except:\n",
        "            continue\n",
        "\n",
        "        if ex_index < 5:\n",
        "            print(\"*** Example ***\")\n",
        "            print(\"guid: \", example.guid)\n",
        "            print(\"tokens: \", \" \".join([str(x) for x in tokens]))\n",
        "            print(\"input_ids: \", \" \".join([str(x) for x in input_ids]))\n",
        "            print(\"input_mask: \", \" \".join([str(x) for x in input_mask]))\n",
        "            print(\"segment_ids: \", \" \".join([str(x) for x in segment_ids]))\n",
        "            print(\"label_ids: \", \" \".join([str(x) for x in label_ids]))\n",
        "\n",
        "        features.append(\n",
        "            InputFeatures(input_ids=input_ids, input_mask=input_mask, segment_ids=segment_ids, label_ids=label_ids)\n",
        "        )\n",
        "    return features\n",
        "\n",
        "def get_labels(path):\n",
        "    if path:\n",
        "        with open(path, \"r\") as f:\n",
        "            labels = f.read().splitlines()\n",
        "        if \"O\" not in labels:\n",
        "            labels = [\"O\"] + labels\n",
        "        return labels\n",
        "    else:\n",
        "        return [\"O\", \"B-DATE\", \"I-DATE\", \"B-PER\", \"I-PER\", \"B-ORG\", \"I-ORG\", \"B-LOC\", \"I-LOC\"]"
      ]
    },
    {
      "cell_type": "markdown",
      "metadata": {
        "id": "XXrs7LjYg9Ch"
      },
      "source": [
        "Next, we define a function to set the seed and the function to start the actual training"
      ]
    },
    {
      "cell_type": "code",
      "execution_count": 15,
      "metadata": {
        "id": "PF8CZwTJg9Ci"
      },
      "outputs": [],
      "source": [
        "def set_seed(args):\n",
        "    \"\"\"Set seed for training\"\"\"\n",
        "    random.seed(args.seed)\n",
        "    np.random.seed(args.seed)\n",
        "    torch.manual_seed(args.seed)\n",
        "    if args.n_gpu > 0:\n",
        "        torch.cuda.manual_seed_all(args.seed)"
      ]
    },
    {
      "cell_type": "code",
      "execution_count": 18,
      "metadata": {
        "id": "8hPK24w1g9Cp"
      },
      "outputs": [],
      "source": [
        "def start_training(args):\n",
        "    \"\"\"\n",
        "    Start the actual training process\n",
        "    \"\"\"\n",
        "    if (\n",
        "        os.path.exists(args.output_dir)\n",
        "        and os.listdir(args.output_dir)\n",
        "        and args.do_train\n",
        "        and not args.overwrite_output_dir\n",
        "    ):\n",
        "        raise ValueError(\n",
        "            \"Output directory ({}) already exists and is not empty. Use --overwrite_output_dir to overcome.\".format(\n",
        "                args.output_dir\n",
        "            )\n",
        "        )\n",
        "\n",
        "    # Setup distant debugging if needed\n",
        "    if args.server_ip and args.server_port:\n",
        "        # Distant debugging - see https://code.visualstudio.com/docs/python/debugging#_attach-to-a-local-script\n",
        "        import ptvsd\n",
        "\n",
        "        print(\"Waiting for debugger attach\")\n",
        "        ptvsd.enable_attach(address=(args.server_ip, args.server_port), redirect_output=True)\n",
        "        ptvsd.wait_for_attach()\n",
        "\n",
        "    # Setup CUDA, GPU & distributed training\n",
        "    if args.local_rank == -1 or args.no_cuda:\n",
        "        device = torch.device(\"cuda\" if torch.cuda.is_available() and not args.no_cuda else \"cpu\")\n",
        "        args.n_gpu = torch.cuda.device_count()\n",
        "    else:  # Initializes the distributed backend which will take care of sychronizing nodes/GPUs\n",
        "        torch.cuda.set_device(args.local_rank)\n",
        "        device = torch.device(\"cuda\", args.local_rank)\n",
        "        torch.distributed.init_process_group(backend=\"nccl\")\n",
        "        args.n_gpu = 1\n",
        "    args.device = device\n",
        "\n",
        "    # Setup logging\n",
        "    logging.basicConfig(\n",
        "        format=\"%(asctime)s - %(levelname)s - %(name)s -   %(message)s\",\n",
        "        datefmt=\"%m/%d/%Y %H:%M:%S\",\n",
        "        level=logging.INFO if args.local_rank in [-1, 0] else logging.WARN,\n",
        "    )\n",
        "\n",
        "    # Set seed\n",
        "    set_seed(args)\n",
        "\n",
        "    # Prepare CONLL-2003 task\n",
        "    labels = get_labels(args.labels)\n",
        "    num_labels = len(labels)\n",
        "    args.num_labels = num_labels\n",
        "\n",
        "    print(labels)\n",
        "    # Use cross entropy ignore index as padding label id so that only real label ids contribute to the loss later\n",
        "    pad_token_label_id = CrossEntropyLoss().ignore_index\n",
        "\n",
        "    # Load pretrained model and tokenizer\n",
        "    if args.local_rank not in [-1, 0]:\n",
        "        torch.distributed.barrier()  # Make sure only the first process in distributed training will download model & vocab\n",
        "\n",
        "    args.model_type = args.model_type.lower()\n",
        "    config_class, model_class, tokenizer_class = AutoConfig, AutoAdapterModel, AutoTokenizer #MODEL_CLASSES[args.model_type]\n",
        "    \n",
        "    model = model_class.from_pretrained(args.model_name_or_path)\n",
        "    model.add_adapter(\"ner\")\n",
        "\n",
        "    model.add_tagging_head(\"ner_head\", num_labels=len(labels))\n",
        "\n",
        "    tokenizer = tokenizer_class.from_pretrained(\n",
        "        args.tokenizer_name if args.tokenizer_name else args.model_name_or_path,\n",
        "        # do_lower_case=args.do_lower_case,\n",
        "        cache_dir=args.cache_dir if args.cache_dir else None,\n",
        "        # use_fast=args.use_fast,\n",
        "    )\n",
        "\n",
        "    if args.local_rank == 0:\n",
        "        torch.distributed.barrier()  # Make sure only the first process in distributed training will download model & vocab\n",
        "\n",
        "    model.to(args.device)\n",
        "    print(\"Training/evaluation parameters\" , args)\n",
        "\n",
        "    # Training\n",
        "    if args.do_train:\n",
        "        train_dataset = load_and_cache_examples(args, tokenizer, labels, pad_token_label_id, mode=\"train\")\n",
        "        #train_dataset = load_examples(args, mode=\"train\")\n",
        "        global_step, tr_loss = train(args, train_dataset, model, tokenizer, labels, pad_token_label_id)\n",
        "        #global_step, tr_loss = train_ner(args, train_dataset, model, tokenizer, labels, pad_token_label_id)\n",
        "        print(f\" global_step = {global_step}, average loss = {tr_loss}\")\n",
        "\n",
        "    # Fine-tuning\n",
        "    if args.do_finetune:\n",
        "        tokenizer = tokenizer_class.from_pretrained(args.input_dir, do_lower_case=args.do_lower_case)\n",
        "        model = model_class.from_pretrained(args.input_dir)\n",
        "        model.to(args.device)\n",
        "        result, predictions = evaluate(args, model, tokenizer, labels, pad_token_label_id, mode=\"test\")\n",
        "        train_dataset = load_and_cache_examples(args, tokenizer, labels, pad_token_label_id, mode=\"train\")\n",
        "\n",
        "        # train_dataset = load_examples(args, mode=\"train\")\n",
        "        global_step, tr_loss = train(args, train_dataset, model, tokenizer, labels, pad_token_label_id)\n",
        "        # global_step, tr_loss = train_ner(args, train_dataset, model, tokenizer, labels, pad_token_label_id)\n",
        "        print(f\" global_step = {global_step}, average loss = {tr_loss}\")\n",
        "\n",
        "    # Saving best-practices: if you use defaults names for the model, you can reload it using from_pretrained()\n",
        "    if (args.do_train or args.do_finetune) and (args.local_rank == -1 or torch.distributed.get_rank() == 0):\n",
        "        # Create output directory if needed\n",
        "        if not os.path.exists(args.output_dir) and args.local_rank in [-1, 0]:\n",
        "            os.makedirs(args.output_dir)\n",
        "\n",
        "        print(\"Saving model checkpoint to\" , args.output_dir)\n",
        "        # Save a trained model, configuration and tokenizer using `save_pretrained()`.\n",
        "        # They can then be reloaded using `from_pretrained()`\n",
        "\n",
        "        model_to_save = (\n",
        "            model.module if hasattr(model, \"module\") else model\n",
        "        )  # Take care of distributed/parallel training\n",
        "\n",
        "        bert_model_to_save = (\n",
        "            bert_model.module if hasattr(bert_model, \"module\") else bert_model\n",
        "        )\n",
        "\n",
        "        bert_model_to_save.save_pretrained(args.output_dir)\n",
        "        tokenizer.save_pretrained(args.output_dir)\n",
        "\n",
        "        # Good practice: save your training arguments together with the trained model\n",
        "        torch.save(args, os.path.join(args.output_dir, \"training_args.bin\"))\n",
        "        torch.save(model_to_save.state_dict(), os.path.join(args.output_dir, \"bert_lstm.model\"))\n",
        "\n",
        "    # Evaluation\n",
        "    results = {}\n",
        "    if args.do_eval and args.local_rank in [-1, 0]:\n",
        "        tokenizer = tokenizer_class.from_pretrained(args.output_dir, do_lower_case=args.do_lower_case)\n",
        "        checkpoints = [args.output_dir]\n",
        "        if args.eval_all_checkpoints:\n",
        "            checkpoints = list(\n",
        "                os.path.dirname(c) for c in sorted(glob.glob(args.output_dir + \"/**/\" + WEIGHTS_NAME, recursive=True))\n",
        "            )\n",
        "            logging.getLogger(\"pytorch_transformers.modeling_utils\").setLevel(logging.WARN)  # Reduce logging\n",
        "        print(\"Evaluate the following checkpoints:\", checkpoints)\n",
        "        for checkpoint in checkpoints:\n",
        "            global_step = checkpoint.split(\"-\")[-1] if len(checkpoints) > 1 else \"\"\n",
        "\n",
        "            bert_model = model_class.from_pretrained(checkpoint)\n",
        "            bert_model.to(args.device)\n",
        "            model.load_state_dict(torch.load(os.path.join(args.output_dir, \"bert_adapter_lstm.model\")))\n",
        "            result, _ = evaluate(args, bert_model, model, tokenizer, labels, pad_token_label_id, mode=\"dev\", prefix=global_step)\n",
        "            if global_step:\n",
        "                result = {\"{}_{}\".format(global_step, k): v for k, v in result.items()}\n",
        "            results.update(result)\n",
        "        output_eval_file = os.path.join(args.output_dir, \"eval_results.txt\")\n",
        "        with open(output_eval_file, \"w\") as writer:\n",
        "            for key in sorted(results.keys()):\n",
        "                writer.write(\"{} = {}\\n\".format(key, str(results[key])))\n",
        "\n",
        "    if args.do_predict and args.local_rank in [-1, 0]:\n",
        "        tokenizer = tokenizer_class.from_pretrained(args.output_dir, do_lower_case=args.do_lower_case)\n",
        "        bert_model = model_class.from_pretrained(args.output_dir)\n",
        "        bert_model.to(args.device)\n",
        "        model.load_state_dict(torch.load(os.path.join(args.output_dir, \"bert_lstm.model\")))\n",
        "        result, predictions = evaluate(args, bert_model, model, tokenizer, labels, pad_token_label_id, mode=\"test\")\n",
        "        # Save results\n",
        "        output_test_results_file = os.path.join(args.output_dir, args.test_result_file)\n",
        "        with open(output_test_results_file, \"w\") as writer:\n",
        "            for key in sorted(result.keys()):\n",
        "                writer.write(\"{} = {}\\n\".format(key, str(result[key])))\n",
        "        # Save predictions\n",
        "        output_test_predictions_file = os.path.join(args.output_dir, args.test_prediction_file)\n",
        "        with open(output_test_predictions_file, \"w\") as writer:\n",
        "            with open(os.path.join(args.data_dir, \"test.txt\"), \"r\") as f:\n",
        "                example_id = 0\n",
        "                for line in f:\n",
        "                    if line.startswith(\"-DOCSTART-\") or line == \"\" or line == \"\\n\":\n",
        "                        writer.write(line)\n",
        "                        if not predictions[example_id]:\n",
        "                            example_id += 1\n",
        "                    elif predictions[example_id]:\n",
        "                        output_line = line.split()[0] + \" \" + predictions[example_id].pop(0) + \"\\n\"\n",
        "                        writer.write(output_line)\n",
        "                    else:\n",
        "                        logger.warning(\"Maximum sequence length exceeded: No prediction for '%s'.\", line.split()[0])\n",
        "\n",
        "    print(results)\n"
      ]
    },
    {
      "cell_type": "markdown",
      "metadata": {
        "id": "SbkSXQK6g9Cq"
      },
      "source": [
        "### 4. Training\n",
        "\n",
        "Here, we perform the actual training process after defining the training arguments. "
      ]
    },
    {
      "cell_type": "code",
      "execution_count": 19,
      "metadata": {
        "id": "gSQi5g_cg9Cr"
      },
      "outputs": [],
      "source": [
        "import argparse"
      ]
    },
    {
      "cell_type": "code",
      "execution_count": 20,
      "metadata": {
        "id": "jKMLYaEzg9Cr"
      },
      "outputs": [],
      "source": [
        "def get_args():\n",
        "    \"\"\"\n",
        "    Get training arguments\n",
        "    \"\"\"\n",
        "    parser = argparse.ArgumentParser()\n",
        "    # Required parameters\n",
        "    parser.add_argument(\n",
        "        \"--data_dir\",\n",
        "        default=None,\n",
        "        type=str,\n",
        "        required=False,\n",
        "        help=\"The input data dir. Should contain the training files for the CoNLL-2003 NER task.\",\n",
        "    )\n",
        "    parser.add_argument(\n",
        "        \"--model_type\",\n",
        "        default=None,\n",
        "        type=str,\n",
        "        required=False,\n",
        "        help=\"Model type selected in the list: \" + \", \".join(MODEL_CLASSES.keys()),\n",
        "    )\n",
        "    parser.add_argument(\n",
        "        \"--model_name_or_path\",\n",
        "        default=None,\n",
        "        type=str,\n",
        "        required=False,\n",
        "        help=\"Path to pre-trained model or shortcut name selected in the list: \" + \", \",\n",
        "    )\n",
        "    parser.add_argument(\n",
        "        \"--input_dir\",\n",
        "        default=None,\n",
        "        type=str,\n",
        "        required=False,\n",
        "        help=\"The input model directory.\",\n",
        "    )\n",
        "    parser.add_argument(\n",
        "        \"--output_dir\",\n",
        "        default=None,\n",
        "        type=str,\n",
        "        required=False,\n",
        "        help=\"The output directory where the model predictions and checkpoints will be written.\",\n",
        "    )\n",
        "\n",
        "    parser.add_argument(\n",
        "        \"--test_result_file\",\n",
        "        default=\"test_results.txt\",\n",
        "        type=str,\n",
        "        required=False,\n",
        "        help=\"The test_result\",\n",
        "    )\n",
        "\n",
        "    parser.add_argument(\n",
        "        \"--test_prediction_file\",\n",
        "        default=\"test_predictions.txt\",\n",
        "        type=str,\n",
        "        required=False,\n",
        "        help=\"The test_result\",\n",
        "    )\n",
        "\n",
        "    # Other parameters\n",
        "    parser.add_argument(\n",
        "        \"--labels\",\n",
        "        default=\"\",\n",
        "        type=str,\n",
        "        help=\"Path to a file containing all labels. If not specified, CoNLL-2003 labels are used.\",\n",
        "    )\n",
        "    parser.add_argument(\n",
        "        \"--config_name\", default=\"\", type=str, help=\"Pretrained config name or path if not the same as model_name\"\n",
        "    )\n",
        "    parser.add_argument(\n",
        "        \"--tokenizer_name\",\n",
        "        default=\"\",\n",
        "        type=str,\n",
        "        help=\"Pretrained tokenizer name or path if not the same as model_name\",\n",
        "    )\n",
        "    parser.add_argument(\n",
        "        \"--cache_dir\",\n",
        "        default=\"\",\n",
        "        type=str,\n",
        "        help=\"Where do you want to store the pre-trained models downloaded from s3\",\n",
        "    )\n",
        "    parser.add_argument(\n",
        "        \"--max_seq_length\",\n",
        "        default=128,\n",
        "        type=int,\n",
        "        help=\"The maximum total input sequence length after tokenization. Sequences longer \"\n",
        "        \"than this will be truncated, sequences shorter will be padded.\",\n",
        "    )\n",
        "    parser.add_argument(\"--do_train\", action=\"store_true\", help=\"Whether to run training.\")\n",
        "    parser.add_argument(\"--do_finetune\", action=\"store_true\", help=\"Whether to run training.\")\n",
        "    parser.add_argument(\"--do_eval\", action=\"store_true\", help=\"Whether to run eval on the dev set.\")\n",
        "    parser.add_argument(\"--do_predict\", action=\"store_true\", help=\"Whether to run predictions on the test set.\")\n",
        "    parser.add_argument(\n",
        "        \"--evaluate_during_training\",\n",
        "        action=\"store_true\",\n",
        "        help=\"Whether to run evaluation during training at each logging step.\",\n",
        "    )\n",
        "    parser.add_argument(\n",
        "        \"--do_lower_case\", action=\"store_true\", help=\"Set this flag if you are using an uncased model.\"\n",
        "    )\n",
        "\n",
        "    parser.add_argument(\"--per_gpu_train_batch_size\", default=8, type=int, help=\"Batch size per GPU/CPU for training.\")\n",
        "    parser.add_argument(\n",
        "        \"--per_gpu_eval_batch_size\", default=8, type=int, help=\"Batch size per GPU/CPU for evaluation.\"\n",
        "    )\n",
        "    parser.add_argument(\n",
        "        \"--gradient_accumulation_steps\",\n",
        "        type=int,\n",
        "        default=1,\n",
        "        help=\"Number of updates steps to accumulate before performing a backward/update pass.\",\n",
        "    )\n",
        "    parser.add_argument(\"--learning_rate\", default=5e-5, type=float, help=\"The initial learning rate for Adam.\")\n",
        "    parser.add_argument(\"--weight_decay\", default=0.0, type=float, help=\"Weight decay if we apply some.\")\n",
        "    parser.add_argument(\"--adam_epsilon\", default=1e-8, type=float, help=\"Epsilon for Adam optimizer.\")\n",
        "    parser.add_argument(\"--max_grad_norm\", default=1.0, type=float, help=\"Max gradient norm.\")\n",
        "    parser.add_argument(\n",
        "        \"--num_train_epochs\", default=3.0, type=float, help=\"Total number of training epochs to perform.\"\n",
        "    )\n",
        "    parser.add_argument(\n",
        "        \"--max_steps\",\n",
        "        default=-1,\n",
        "        type=int,\n",
        "        help=\"If > 0: set total number of training steps to perform. Override num_train_epochs.\",\n",
        "    )\n",
        "    parser.add_argument(\"--warmup_steps\", default=0, type=int, help=\"Linear warmup over warmup_steps.\")\n",
        "\n",
        "    parser.add_argument(\"--logging_steps\", type=int, default=500, help=\"Log every X updates steps.\")\n",
        "    parser.add_argument(\"--save_steps\", type=int, default=500, help=\"Save checkpoint every X updates steps.\")\n",
        "    parser.add_argument(\n",
        "        \"--eval_all_checkpoints\",\n",
        "        action=\"store_true\",\n",
        "        help=\"Evaluate all checkpoints starting with the same prefix as model_name ending and ending with step number\",\n",
        "    )\n",
        "    parser.add_argument(\"--no_cuda\", action=\"store_true\", help=\"Avoid using CUDA when available\")\n",
        "    parser.add_argument(\n",
        "        \"--overwrite_output_dir\", action=\"store_true\", help=\"Overwrite the content of the output directory\"\n",
        "    )\n",
        "    parser.add_argument(\n",
        "        \"--overwrite_cache\", action=\"store_true\", help=\"Overwrite the cached training and evaluation sets\"\n",
        "    )\n",
        "    parser.add_argument(\"--seed\", type=int, default=42, help=\"random seed for initialization\")\n",
        "\n",
        "    parser.add_argument(\"--local_rank\", type=int, default=-1, help=\"For distributed training: local_rank\")\n",
        "    parser.add_argument(\"--server_ip\", type=str, default=\"\", help=\"For distant debugging.\")\n",
        "    parser.add_argument(\"--server_port\", type=str, default=\"\", help=\"For distant debugging.\")\n",
        "    \n",
        "    return parser.parse_known_args()"
      ]
    },
    {
      "cell_type": "code",
      "execution_count": 20,
      "metadata": {
        "id": "YPuxvC7yg9Cs"
      },
      "outputs": [],
      "source": []
    },
    {
      "cell_type": "markdown",
      "metadata": {
        "id": "JRshLoLqg9Cs"
      },
      "source": [
        "**CHANGES CAN BE MADE HERE:**\n",
        "\n",
        "Note that the argments with comments may need to be modified. The remaining arguments can be left as they are, as these are good defaults. \n",
        "\n",
        "Hence, you should start by only supplying the data directory and output directory. "
      ]
    },
    {
      "cell_type": "markdown",
      "metadata": {
        "id": "UVya68wYg9Ct"
      },
      "source": [
        "BERT model training:"
      ]
    },
    {
      "cell_type": "code",
      "execution_count": 21,
      "metadata": {
        "id": "CRWHgXh7g9Ct"
      },
      "outputs": [],
      "source": [
        "args, _ = get_args()\n",
        "args.data_dir = \"data/wol/\" # to-change: supply data directory\n",
        "args.output_dir = \"wolof_sample\" # to-change: supply output directory\n",
        "args.model_type = \"bert\"\n",
        "args.model_name_or_path = \"bert-base-multilingual-cased\"\n",
        "args.max_seq_length = 164\n",
        "args.num_train_epochs = 10\n",
        "args.per_gpu_train_batch_size = 32\n",
        "args.save_steps = 10000\n",
        "args.seed = 1\n",
        "args.do_train = True\n",
        "args.do_eval = True\n",
        "args.do_predict = True\n",
        "args.evaluate_during_training = True"
      ]
    },
    {
      "cell_type": "code",
      "execution_count": null,
      "metadata": {
        "colab": {
          "base_uri": "https://localhost:8080/",
          "height": 434,
          "referenced_widgets": [
            "84b3148cdb9d4de9be8e348409691cca",
            "23bc4ced14dc46988b53ce508112b3b9",
            "5e9a59b3614a49b78fc2da430e34b293",
            "7a3a91b9a5324a6cae1a01eda17f17a2",
            "d77e43330d3f4c4aac3858d8850556c8",
            "c294c82848ab44349930842b5d2d18ad",
            "b63734aab51b4c749ce684769bc800f7",
            "52dee71c6533426d9b0d280dec6450f5",
            "253648a510974573beabbdd239c1b9a4",
            "5ccf18de054f407fbe26ffe031557773",
            "48c3d6b4054a46928fef42f859cf4c42"
          ]
        },
        "id": "x-5H7o48g9Ct",
        "outputId": "4a027d3b-947f-4a4f-b481-ddc183df42b6"
      },
      "outputs": [
        {
          "output_type": "stream",
          "name": "stdout",
          "text": [
            "env: CUDA_VISIBLE_DEVICES=1\n",
            "['O', 'B-DATE', 'I-DATE', 'B-PER', 'I-PER', 'B-ORG', 'I-ORG', 'B-LOC', 'I-LOC']\n"
          ]
        },
        {
          "output_type": "stream",
          "name": "stderr",
          "text": [
            "/usr/local/lib/python3.8/dist-packages/torch/cuda/__init__.py:497: UserWarning: Can't initialize NVML\n",
            "  warnings.warn(\"Can't initialize NVML\")\n",
            "Some weights of the model checkpoint at bert-base-multilingual-cased were not used when initializing BertAdapterModel: ['cls.seq_relationship.bias', 'cls.predictions.bias', 'cls.predictions.decoder.weight', 'cls.predictions.transform.dense.bias', 'cls.predictions.transform.dense.weight', 'cls.predictions.transform.LayerNorm.bias', 'cls.seq_relationship.weight', 'cls.predictions.transform.LayerNorm.weight']\n",
            "- This IS expected if you are initializing BertAdapterModel from the checkpoint of a model trained on another task or with another architecture (e.g. initializing a BertForSequenceClassification model from a BertForPreTraining model).\n",
            "- This IS NOT expected if you are initializing BertAdapterModel from the checkpoint of a model that you expect to be exactly identical (initializing a BertForSequenceClassification model from a BertForSequenceClassification model).\n"
          ]
        },
        {
          "output_type": "stream",
          "name": "stdout",
          "text": [
            "Training/evaluation parameters Namespace(adam_epsilon=1e-08, cache_dir='', config_name='', data_dir='data/wol/', device=device(type='cpu'), do_eval=True, do_finetune=False, do_lower_case=False, do_predict=True, do_train=True, eval_all_checkpoints=False, evaluate_during_training=True, gradient_accumulation_steps=1, input_dir=None, labels='', learning_rate=5e-05, local_rank=-1, logging_steps=500, max_grad_norm=1.0, max_seq_length=164, max_steps=-1, model_name_or_path='bert-base-multilingual-cased', model_type='bert', n_gpu=0, no_cuda=False, num_labels=9, num_train_epochs=10, output_dir='wolof_sample', overwrite_cache=False, overwrite_output_dir=False, per_gpu_eval_batch_size=8, per_gpu_train_batch_size=32, save_steps=10000, seed=1, server_ip='', server_port='', test_prediction_file='test_predictions.txt', test_result_file='test_results.txt', tokenizer_name='', warmup_steps=0, weight_decay=0.0)\n",
            "Loading features from cached file data/wol/cached_train_bert-base-multilingual-cased_164\n"
          ]
        },
        {
          "output_type": "stream",
          "name": "stderr",
          "text": [
            "/usr/local/lib/python3.8/dist-packages/transformers/optimization.py:306: FutureWarning: This implementation of AdamW is deprecated and will be removed in a future version. Use the PyTorch implementation torch.optim.AdamW instead, or set `no_deprecation_warning=True` to disable this warning\n",
            "  warnings.warn(\n"
          ]
        },
        {
          "output_type": "stream",
          "name": "stdout",
          "text": [
            "***** Running training *****\n",
            "  Num examples =  1871\n",
            "  Num Epochs =  10\n",
            "  Instantaneous batch size per GPU =  32\n",
            "  Total train batch size (w. parallel, distributed & accumulation) =  32\n",
            "  Gradient Accumulation steps =  1\n",
            "  Total optimization steps =  590\n"
          ]
        },
        {
          "output_type": "stream",
          "name": "stderr",
          "text": [
            "\rEpoch:   0%|          | 0/10 [00:00<?, ?it/s]"
          ]
        },
        {
          "output_type": "display_data",
          "data": {
            "text/plain": [
              "Iteration:   0%|          | 0/59 [00:00<?, ?it/s]"
            ],
            "application/vnd.jupyter.widget-view+json": {
              "version_major": 2,
              "version_minor": 0,
              "model_id": "84b3148cdb9d4de9be8e348409691cca"
            }
          },
          "metadata": {}
        },
        {
          "output_type": "stream",
          "name": "stderr",
          "text": [
            "/usr/local/lib/python3.8/dist-packages/torch/optim/lr_scheduler.py:138: UserWarning: Detected call of `lr_scheduler.step()` before `optimizer.step()`. In PyTorch 1.1.0 and later, you should call them in the opposite order: `optimizer.step()` before `lr_scheduler.step()`.  Failure to do this will result in PyTorch skipping the first value of the learning rate schedule. See more details at https://pytorch.org/docs/stable/optim.html#how-to-adjust-learning-rate\n",
            "  warnings.warn(\"Detected call of `lr_scheduler.step()` before `optimizer.step()`. \"\n"
          ]
        }
      ],
      "source": [
        "# confirm your cuda devices before setting this command\n",
        "%env CUDA_VISIBLE_DEVICES=1\n",
        "start_training(args)"
      ]
    },
    {
      "cell_type": "code",
      "execution_count": null,
      "metadata": {
        "id": "s42-ENTOg9Cu"
      },
      "outputs": [],
      "source": []
    },
    {
      "cell_type": "markdown",
      "metadata": {
        "id": "o4K3RrSRg9Cu"
      },
      "source": [
        "XLM-Roberta model training:"
      ]
    },
    {
      "cell_type": "code",
      "execution_count": null,
      "metadata": {
        "id": "1Ozzuwq6g9Cu"
      },
      "outputs": [],
      "source": [
        "args, _ = get_args()\n",
        "args.data_dir = \"data/swahili/\" # to-change: supply data directory\n",
        "args.output_dir = \"swahili_xlmr\" # to-change: supply output directory\n",
        "args.model_type = \"bert\"\n",
        "args.model_name_or_path = \"xlm-roberta-base\"\n",
        "args.max_seq_length = 164\n",
        "args.num_train_epochs = 10\n",
        "args.per_gpu_train_batch_size = 32\n",
        "args.save_steps = 10000\n",
        "args.seed = 1\n",
        "args.do_train\n",
        "args.do_eval\n",
        "args.do_predict"
      ]
    },
    {
      "cell_type": "code",
      "execution_count": null,
      "metadata": {
        "id": "ypdRnHxrg9Cv"
      },
      "outputs": [],
      "source": [
        "# confirm your cuda devices before setting this command\n",
        "!export CUDA_VISIBLE_DEVICES=1,2,3\n",
        "start_training(args)"
      ]
    },
    {
      "cell_type": "code",
      "execution_count": null,
      "metadata": {
        "id": "gu8-Z9E4g9Cv"
      },
      "outputs": [],
      "source": []
    },
    {
      "cell_type": "code",
      "execution_count": null,
      "metadata": {
        "id": "-y-jS1RHg9Cv"
      },
      "outputs": [],
      "source": []
    }
  ],
  "metadata": {
    "kernelspec": {
      "display_name": "Python 3",
      "language": "python",
      "name": "python3"
    },
    "language_info": {
      "codemirror_mode": {
        "name": "ipython",
        "version": 3
      },
      "file_extension": ".py",
      "mimetype": "text/x-python",
      "name": "python",
      "nbconvert_exporter": "python",
      "pygments_lexer": "ipython3",
      "version": "3.10.6 (main, Nov 14 2022, 16:10:14) [GCC 11.3.0]"
    },
    "vscode": {
      "interpreter": {
        "hash": "916dbcbb3f70747c44a77c7bcd40155683ae19c65e1c03b4aa3499c5328201f1"
      }
    },
    "colab": {
      "provenance": []
    },
    "widgets": {
      "application/vnd.jupyter.widget-state+json": {
        "84b3148cdb9d4de9be8e348409691cca": {
          "model_module": "@jupyter-widgets/controls",
          "model_name": "HBoxModel",
          "model_module_version": "1.5.0",
          "state": {
            "_dom_classes": [],
            "_model_module": "@jupyter-widgets/controls",
            "_model_module_version": "1.5.0",
            "_model_name": "HBoxModel",
            "_view_count": null,
            "_view_module": "@jupyter-widgets/controls",
            "_view_module_version": "1.5.0",
            "_view_name": "HBoxView",
            "box_style": "",
            "children": [
              "IPY_MODEL_23bc4ced14dc46988b53ce508112b3b9",
              "IPY_MODEL_5e9a59b3614a49b78fc2da430e34b293",
              "IPY_MODEL_7a3a91b9a5324a6cae1a01eda17f17a2"
            ],
            "layout": "IPY_MODEL_d77e43330d3f4c4aac3858d8850556c8"
          }
        },
        "23bc4ced14dc46988b53ce508112b3b9": {
          "model_module": "@jupyter-widgets/controls",
          "model_name": "HTMLModel",
          "model_module_version": "1.5.0",
          "state": {
            "_dom_classes": [],
            "_model_module": "@jupyter-widgets/controls",
            "_model_module_version": "1.5.0",
            "_model_name": "HTMLModel",
            "_view_count": null,
            "_view_module": "@jupyter-widgets/controls",
            "_view_module_version": "1.5.0",
            "_view_name": "HTMLView",
            "description": "",
            "description_tooltip": null,
            "layout": "IPY_MODEL_c294c82848ab44349930842b5d2d18ad",
            "placeholder": "​",
            "style": "IPY_MODEL_b63734aab51b4c749ce684769bc800f7",
            "value": "Iteration:  37%"
          }
        },
        "5e9a59b3614a49b78fc2da430e34b293": {
          "model_module": "@jupyter-widgets/controls",
          "model_name": "FloatProgressModel",
          "model_module_version": "1.5.0",
          "state": {
            "_dom_classes": [],
            "_model_module": "@jupyter-widgets/controls",
            "_model_module_version": "1.5.0",
            "_model_name": "FloatProgressModel",
            "_view_count": null,
            "_view_module": "@jupyter-widgets/controls",
            "_view_module_version": "1.5.0",
            "_view_name": "ProgressView",
            "bar_style": "",
            "description": "",
            "description_tooltip": null,
            "layout": "IPY_MODEL_52dee71c6533426d9b0d280dec6450f5",
            "max": 59,
            "min": 0,
            "orientation": "horizontal",
            "style": "IPY_MODEL_253648a510974573beabbdd239c1b9a4",
            "value": 22
          }
        },
        "7a3a91b9a5324a6cae1a01eda17f17a2": {
          "model_module": "@jupyter-widgets/controls",
          "model_name": "HTMLModel",
          "model_module_version": "1.5.0",
          "state": {
            "_dom_classes": [],
            "_model_module": "@jupyter-widgets/controls",
            "_model_module_version": "1.5.0",
            "_model_name": "HTMLModel",
            "_view_count": null,
            "_view_module": "@jupyter-widgets/controls",
            "_view_module_version": "1.5.0",
            "_view_name": "HTMLView",
            "description": "",
            "description_tooltip": null,
            "layout": "IPY_MODEL_5ccf18de054f407fbe26ffe031557773",
            "placeholder": "​",
            "style": "IPY_MODEL_48c3d6b4054a46928fef42f859cf4c42",
            "value": " 22/59 [12:25&lt;21:10, 34.34s/it]"
          }
        },
        "d77e43330d3f4c4aac3858d8850556c8": {
          "model_module": "@jupyter-widgets/base",
          "model_name": "LayoutModel",
          "model_module_version": "1.2.0",
          "state": {
            "_model_module": "@jupyter-widgets/base",
            "_model_module_version": "1.2.0",
            "_model_name": "LayoutModel",
            "_view_count": null,
            "_view_module": "@jupyter-widgets/base",
            "_view_module_version": "1.2.0",
            "_view_name": "LayoutView",
            "align_content": null,
            "align_items": null,
            "align_self": null,
            "border": null,
            "bottom": null,
            "display": null,
            "flex": null,
            "flex_flow": null,
            "grid_area": null,
            "grid_auto_columns": null,
            "grid_auto_flow": null,
            "grid_auto_rows": null,
            "grid_column": null,
            "grid_gap": null,
            "grid_row": null,
            "grid_template_areas": null,
            "grid_template_columns": null,
            "grid_template_rows": null,
            "height": null,
            "justify_content": null,
            "justify_items": null,
            "left": null,
            "margin": null,
            "max_height": null,
            "max_width": null,
            "min_height": null,
            "min_width": null,
            "object_fit": null,
            "object_position": null,
            "order": null,
            "overflow": null,
            "overflow_x": null,
            "overflow_y": null,
            "padding": null,
            "right": null,
            "top": null,
            "visibility": null,
            "width": null
          }
        },
        "c294c82848ab44349930842b5d2d18ad": {
          "model_module": "@jupyter-widgets/base",
          "model_name": "LayoutModel",
          "model_module_version": "1.2.0",
          "state": {
            "_model_module": "@jupyter-widgets/base",
            "_model_module_version": "1.2.0",
            "_model_name": "LayoutModel",
            "_view_count": null,
            "_view_module": "@jupyter-widgets/base",
            "_view_module_version": "1.2.0",
            "_view_name": "LayoutView",
            "align_content": null,
            "align_items": null,
            "align_self": null,
            "border": null,
            "bottom": null,
            "display": null,
            "flex": null,
            "flex_flow": null,
            "grid_area": null,
            "grid_auto_columns": null,
            "grid_auto_flow": null,
            "grid_auto_rows": null,
            "grid_column": null,
            "grid_gap": null,
            "grid_row": null,
            "grid_template_areas": null,
            "grid_template_columns": null,
            "grid_template_rows": null,
            "height": null,
            "justify_content": null,
            "justify_items": null,
            "left": null,
            "margin": null,
            "max_height": null,
            "max_width": null,
            "min_height": null,
            "min_width": null,
            "object_fit": null,
            "object_position": null,
            "order": null,
            "overflow": null,
            "overflow_x": null,
            "overflow_y": null,
            "padding": null,
            "right": null,
            "top": null,
            "visibility": null,
            "width": null
          }
        },
        "b63734aab51b4c749ce684769bc800f7": {
          "model_module": "@jupyter-widgets/controls",
          "model_name": "DescriptionStyleModel",
          "model_module_version": "1.5.0",
          "state": {
            "_model_module": "@jupyter-widgets/controls",
            "_model_module_version": "1.5.0",
            "_model_name": "DescriptionStyleModel",
            "_view_count": null,
            "_view_module": "@jupyter-widgets/base",
            "_view_module_version": "1.2.0",
            "_view_name": "StyleView",
            "description_width": ""
          }
        },
        "52dee71c6533426d9b0d280dec6450f5": {
          "model_module": "@jupyter-widgets/base",
          "model_name": "LayoutModel",
          "model_module_version": "1.2.0",
          "state": {
            "_model_module": "@jupyter-widgets/base",
            "_model_module_version": "1.2.0",
            "_model_name": "LayoutModel",
            "_view_count": null,
            "_view_module": "@jupyter-widgets/base",
            "_view_module_version": "1.2.0",
            "_view_name": "LayoutView",
            "align_content": null,
            "align_items": null,
            "align_self": null,
            "border": null,
            "bottom": null,
            "display": null,
            "flex": null,
            "flex_flow": null,
            "grid_area": null,
            "grid_auto_columns": null,
            "grid_auto_flow": null,
            "grid_auto_rows": null,
            "grid_column": null,
            "grid_gap": null,
            "grid_row": null,
            "grid_template_areas": null,
            "grid_template_columns": null,
            "grid_template_rows": null,
            "height": null,
            "justify_content": null,
            "justify_items": null,
            "left": null,
            "margin": null,
            "max_height": null,
            "max_width": null,
            "min_height": null,
            "min_width": null,
            "object_fit": null,
            "object_position": null,
            "order": null,
            "overflow": null,
            "overflow_x": null,
            "overflow_y": null,
            "padding": null,
            "right": null,
            "top": null,
            "visibility": null,
            "width": null
          }
        },
        "253648a510974573beabbdd239c1b9a4": {
          "model_module": "@jupyter-widgets/controls",
          "model_name": "ProgressStyleModel",
          "model_module_version": "1.5.0",
          "state": {
            "_model_module": "@jupyter-widgets/controls",
            "_model_module_version": "1.5.0",
            "_model_name": "ProgressStyleModel",
            "_view_count": null,
            "_view_module": "@jupyter-widgets/base",
            "_view_module_version": "1.2.0",
            "_view_name": "StyleView",
            "bar_color": null,
            "description_width": ""
          }
        },
        "5ccf18de054f407fbe26ffe031557773": {
          "model_module": "@jupyter-widgets/base",
          "model_name": "LayoutModel",
          "model_module_version": "1.2.0",
          "state": {
            "_model_module": "@jupyter-widgets/base",
            "_model_module_version": "1.2.0",
            "_model_name": "LayoutModel",
            "_view_count": null,
            "_view_module": "@jupyter-widgets/base",
            "_view_module_version": "1.2.0",
            "_view_name": "LayoutView",
            "align_content": null,
            "align_items": null,
            "align_self": null,
            "border": null,
            "bottom": null,
            "display": null,
            "flex": null,
            "flex_flow": null,
            "grid_area": null,
            "grid_auto_columns": null,
            "grid_auto_flow": null,
            "grid_auto_rows": null,
            "grid_column": null,
            "grid_gap": null,
            "grid_row": null,
            "grid_template_areas": null,
            "grid_template_columns": null,
            "grid_template_rows": null,
            "height": null,
            "justify_content": null,
            "justify_items": null,
            "left": null,
            "margin": null,
            "max_height": null,
            "max_width": null,
            "min_height": null,
            "min_width": null,
            "object_fit": null,
            "object_position": null,
            "order": null,
            "overflow": null,
            "overflow_x": null,
            "overflow_y": null,
            "padding": null,
            "right": null,
            "top": null,
            "visibility": null,
            "width": null
          }
        },
        "48c3d6b4054a46928fef42f859cf4c42": {
          "model_module": "@jupyter-widgets/controls",
          "model_name": "DescriptionStyleModel",
          "model_module_version": "1.5.0",
          "state": {
            "_model_module": "@jupyter-widgets/controls",
            "_model_module_version": "1.5.0",
            "_model_name": "DescriptionStyleModel",
            "_view_count": null,
            "_view_module": "@jupyter-widgets/base",
            "_view_module_version": "1.2.0",
            "_view_name": "StyleView",
            "description_width": ""
          }
        }
      }
    }
  },
  "nbformat": 4,
  "nbformat_minor": 0
}